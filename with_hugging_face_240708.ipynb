{
  "nbformat": 4,
  "nbformat_minor": 0,
  "metadata": {
    "colab": {
      "private_outputs": true,
      "provenance": [],
      "gpuType": "T4",
      "include_colab_link": true
    },
    "kernelspec": {
      "name": "python3",
      "display_name": "Python 3"
    },
    "language_info": {
      "name": "python"
    },
    "accelerator": "GPU"
  },
  "cells": [
    {
      "cell_type": "markdown",
      "metadata": {
        "id": "view-in-github",
        "colab_type": "text"
      },
      "source": [
        "<a href=\"https://colab.research.google.com/github/chanheum/machinerunning/blob/main/with_hugging_face_240708.ipynb\" target=\"_parent\"><img src=\"https://colab.research.google.com/assets/colab-badge.svg\" alt=\"Open In Colab\"/></a>"
      ]
    },
    {
      "cell_type": "code",
      "source": [
        "!python --version"
      ],
      "metadata": {
        "id": "KybRv9DXEHeR"
      },
      "execution_count": null,
      "outputs": []
    },
    {
      "cell_type": "code",
      "execution_count": null,
      "metadata": {
        "id": "M6YyeP3OOYne"
      },
      "outputs": [],
      "source": [
        "!pip install mxnet==1.9.1\n",
        "!pip install gluonnlp==0.10.0\n",
        "!pip install pandas==1.5.3\n",
        "!pip install tqdm==4.66.1\n",
        "!pip install sentencepiece==0.1.99\n",
        "!pip install transformers==4.34.0\n",
        "!pip install torch==2.0.1+cu118\n",
        "!pip install numpy==1.23.1"
      ]
    },
    {
      "cell_type": "code",
      "source": [
        "!pip install firebase-admin\n",
        "!pip show firebase-admin"
      ],
      "metadata": {
        "id": "y5L41fxXRBWH"
      },
      "execution_count": null,
      "outputs": []
    },
    {
      "cell_type": "code",
      "source": [
        "!pip install firebase_functions"
      ],
      "metadata": {
        "id": "RO1MQSQdQhvt"
      },
      "execution_count": null,
      "outputs": []
    },
    {
      "cell_type": "markdown",
      "source": [
        "python version : 3.10.12\n",
        "\n",
        "<Modules Version>\n",
        "mxnet : 1.9.1\n",
        "\n",
        "gluonnlp : 0.10.0\n",
        "\n",
        "pandas : 1.5.3\n",
        "\n",
        "tqdm : 4.66.1\n",
        "\n",
        "sentencepiece : 0.1.99\n",
        "\n",
        "transformers : 4.34.0\n",
        "\n",
        "torch : 2.0.1+cu118"
      ],
      "metadata": {
        "id": "3duGuzHJFz4B"
      }
    },
    {
      "cell_type": "code",
      "source": [
        "# ★\n",
        "!pip install 'git+https://github.com/SKTBrain/KoBERT.git#egg=kobert_tokenizer&subdirectory=kobert_hf'"
      ],
      "metadata": {
        "id": "kztaQDa0OcBl"
      },
      "execution_count": null,
      "outputs": []
    },
    {
      "cell_type": "code",
      "source": [
        "import torch\n",
        "from torch import nn\n",
        "import torch.nn.functional as F\n",
        "import torch.optim as optim\n",
        "from torch.utils.data import Dataset, DataLoader\n",
        "import gluonnlp as nlp\n",
        "import numpy as np\n",
        "from tqdm import tqdm, tqdm_notebook\n",
        "import time"
      ],
      "metadata": {
        "id": "L2MwgXHSOsN2"
      },
      "execution_count": null,
      "outputs": []
    },
    {
      "cell_type": "code",
      "source": [
        "# ★ Hugging Face를 통한 모델 및 토크나이저 Import\n",
        "from kobert_tokenizer import KoBERTTokenizer\n",
        "from transformers import BertModel\n",
        "\n",
        "from transformers import AdamW\n",
        "from transformers.optimization import get_cosine_schedule_with_warmup"
      ],
      "metadata": {
        "id": "lPrR11nGOwO9"
      },
      "execution_count": null,
      "outputs": []
    },
    {
      "cell_type": "code",
      "source": [
        "# GPU 사용 시\n",
        "device = torch.device(\"cuda:0\")"
      ],
      "metadata": {
        "id": "SeEfviNwO39t"
      },
      "execution_count": null,
      "outputs": []
    },
    {
      "cell_type": "code",
      "source": [
        "# ★\n",
        "tokenizer = KoBERTTokenizer.from_pretrained('skt/kobert-base-v1')\n",
        "bertmodel = BertModel.from_pretrained('skt/kobert-base-v1', return_dict=False)\n",
        "vocab = nlp.vocab.BERTVocab.from_sentencepiece(tokenizer.vocab_file, padding_token='[PAD]')"
      ],
      "metadata": {
        "id": "apk5t9mkO6EF"
      },
      "execution_count": null,
      "outputs": []
    },
    {
      "cell_type": "code",
      "source": [
        "from google.colab import drive\n",
        "drive.mount('/content/drive')"
      ],
      "metadata": {
        "id": "zAdcaUIdHXFe"
      },
      "execution_count": null,
      "outputs": []
    },
    {
      "cell_type": "code",
      "source": [
        "# 데이터 불러오기\n",
        "# !wget https://www.dropbox.com/s/374ftkec978br3d/ratings_train.txt?dl=1\n",
        "# !wget https://www.dropbox.com/s/977gbwh542gdy94/ratings_test.txt?dl=1\n",
        "\n",
        "# 데이터 불러오기 (나)\n",
        "import pandas as pd\n",
        "# chatbot_data = pd.read_csv('/content/drive/MyDrive/sentences.csv', encoding='cp949')\n",
        "chatbot_data = pd.read_csv('/content/drive/MyDrive/sentences_custom_240708.csv', encoding='cp949')      # 파일명 수정"
      ],
      "metadata": {
        "id": "glLHS_3GO-I0"
      },
      "execution_count": null,
      "outputs": []
    },
    {
      "cell_type": "code",
      "source": [
        "chatbot_data.loc[(chatbot_data['의도'] == \"neutral\"), '의도'] = 0          #일상대화  => 0\n",
        "chatbot_data.loc[(chatbot_data['의도'] == \"call\"), '의도'] = 1          #코웨이 AI 호출  => 1\n",
        "chatbot_data.loc[(chatbot_data['의도'] == \"power_on\"), '의도'] = 2      #전원 on => 2\n",
        "chatbot_data.loc[(chatbot_data['의도'] == \"power_off\"), '의도'] = 3     #전원 off  => 3\n",
        "chatbot_data.loc[(chatbot_data['의도'] == \"mode_goodmoring\"), '의도'] = 4       #굿모닝모드 => 4\n",
        "chatbot_data.loc[(chatbot_data['의도'] == \"mode_goodday\"), '의도'] = 5      #굿데이모드  => 5\n",
        "chatbot_data.loc[(chatbot_data['의도'] == \"mode_goodnight\"), '의도'] = 6       #굿나잇모드 => 6\n",
        "chatbot_data.loc[(chatbot_data['의도'] == \"recline_zerog\"), '의도'] = 7      #무중력모드 => 7\n",
        "chatbot_data.loc[(chatbot_data['의도'] == \"recline_swing\"), '의도'] = 8       #스윙모드 => 8\n",
        "chatbot_data.loc[(chatbot_data['의도'] == \"heat_on\"), '의도'] = 9       #온열 on => 9\n",
        "chatbot_data.loc[(chatbot_data['의도'] == \"heat_off\"), '의도'] = 10      #온열 off  => 10"
      ],
      "metadata": {
        "id": "Y_SbES6kcHUs"
      },
      "execution_count": null,
      "outputs": []
    },
    {
      "cell_type": "code",
      "source": [
        "chatbot_data.sample(n=10)"
      ],
      "metadata": {
        "id": "WeEZfpJ7At8e"
      },
      "execution_count": null,
      "outputs": []
    },
    {
      "cell_type": "code",
      "source": [
        "data_list = []\n",
        "for q, label in zip(chatbot_data['발화문'], chatbot_data['의도'])  :\n",
        "    if(type(q) != float):\n",
        "        data = []\n",
        "        data.append(q)\n",
        "        data.append(str(label))\n",
        "\n",
        "        data_list.append(data)\n",
        "    else:\n",
        "        pass"
      ],
      "metadata": {
        "id": "Sqx59HoldXwk"
      },
      "execution_count": null,
      "outputs": []
    },
    {
      "cell_type": "code",
      "source": [
        "print(len(data_list))\n",
        "print(data_list[0])\n",
        "# print(data_list[6000])\n",
        "# print(data_list[12000])\n",
        "print(data_list[-1])"
      ],
      "metadata": {
        "id": "g13K1pejdeDT"
      },
      "execution_count": null,
      "outputs": []
    },
    {
      "cell_type": "code",
      "source": [
        "#train & test 데이터로 나누기\n",
        "from sklearn.model_selection import train_test_split\n",
        "\n",
        "dataset_train, dataset_test = train_test_split(data_list, test_size=0.25, shuffle=True, random_state=34)"
      ],
      "metadata": {
        "id": "dHCFCwsKeuUC"
      },
      "execution_count": null,
      "outputs": []
    },
    {
      "cell_type": "code",
      "source": [
        "print(len(dataset_train))\n",
        "print((dataset_train))"
      ],
      "metadata": {
        "id": "AcMp3QgWexfW"
      },
      "execution_count": null,
      "outputs": []
    },
    {
      "cell_type": "code",
      "source": [
        "print(len(dataset_test))\n",
        "print(dataset_test)\n",
        "\n",
        "for data, label in dataset_test:\n",
        "    print(type(data))\n",
        "    print(data)\n",
        "    print(label)"
      ],
      "metadata": {
        "id": "RPb7D0NVKAtk"
      },
      "execution_count": null,
      "outputs": []
    },
    {
      "cell_type": "code",
      "source": [
        "# ★\n",
        "class BERTDataset(Dataset):\n",
        "    def __init__(self, dataset, sent_idx, label_idx, bert_tokenizer,vocab, max_len,\n",
        "                 pad, pair):\n",
        "\n",
        "        transform = nlp.data.BERTSentenceTransform(\n",
        "            bert_tokenizer, max_seq_length=max_len,vocab=vocab, pad=pad, pair=pair)\n",
        "\n",
        "        self.sentences = [transform([i[sent_idx]]) for i in dataset]\n",
        "        self.labels = [np.int32(i[label_idx]) for i in dataset]\n",
        "\n",
        "    def __getitem__(self, i):\n",
        "        return (self.sentences[i] + (self.labels[i], ))\n",
        "\n",
        "\n",
        "    def __len__(self):\n",
        "        return (len(self.labels))"
      ],
      "metadata": {
        "id": "_b1FECNxezBV"
      },
      "execution_count": null,
      "outputs": []
    },
    {
      "cell_type": "code",
      "source": [
        "# Setting parameters\n",
        "max_len = 64\n",
        "batch_size = 64\n",
        "warmup_ratio = 0.1\n",
        "num_epochs = 5\n",
        "max_grad_norm = 1\n",
        "log_interval = 200\n",
        "learning_rate =  5e-5"
      ],
      "metadata": {
        "id": "uJMXjXK8Pg_F"
      },
      "execution_count": null,
      "outputs": []
    },
    {
      "cell_type": "code",
      "source": [
        "# ★\n",
        "tok = tokenizer.tokenize\n",
        "\n",
        "data_train = BERTDataset(dataset_train, 0, 1, tok, vocab, max_len, True, False)\n",
        "data_test = BERTDataset(dataset_test, 0, 1, tok, vocab, max_len, True, False)\n",
        "print(data_train[0])\n",
        "train_dataloader = torch.utils.data.DataLoader(data_train, batch_size=batch_size, num_workers=5)\n",
        "test_dataloader = torch.utils.data.DataLoader(data_test, batch_size=batch_size, num_workers=5)"
      ],
      "metadata": {
        "id": "ecIeRwToPiLF"
      },
      "execution_count": null,
      "outputs": []
    },
    {
      "cell_type": "code",
      "source": [
        "class BERTClassifier(nn.Module):\n",
        "    def __init__(self,\n",
        "                 bert,\n",
        "                 hidden_size = 768,\n",
        "                 num_classes = 11, # 클래스 수 조정\n",
        "                 dr_rate=None,\n",
        "                 params=None):\n",
        "        super(BERTClassifier, self).__init__()\n",
        "        self.bert = bert\n",
        "        self.dr_rate = dr_rate\n",
        "\n",
        "        self.classifier = nn.Linear(hidden_size , num_classes)\n",
        "        if dr_rate:\n",
        "            self.dropout = nn.Dropout(p=dr_rate)\n",
        "\n",
        "    def gen_attention_mask(self, token_ids, valid_length):\n",
        "        attention_mask = torch.zeros_like(token_ids)\n",
        "        for i, v in enumerate(valid_length):\n",
        "            attention_mask[i][:v] = 1\n",
        "        return attention_mask.float()\n",
        "\n",
        "    def forward(self, token_ids, valid_length, segment_ids):\n",
        "        attention_mask = self.gen_attention_mask(token_ids, valid_length)\n",
        "\n",
        "        _, pooler = self.bert(input_ids = token_ids, token_type_ids = segment_ids.long(), attention_mask = attention_mask.float().to(token_ids.device))\n",
        "        if self.dr_rate:\n",
        "            out = self.dropout(pooler)\n",
        "        return self.classifier(out)"
      ],
      "metadata": {
        "id": "DO8HBPVjPqkF"
      },
      "execution_count": null,
      "outputs": []
    },
    {
      "cell_type": "code",
      "source": [
        "model = BERTClassifier(bertmodel,  dr_rate=0.5).to(device)"
      ],
      "metadata": {
        "id": "JOm4mfDqPsXX"
      },
      "execution_count": null,
      "outputs": []
    },
    {
      "cell_type": "code",
      "source": [
        "# Prepare optimizer and schedule (linear warmup and decay)\n",
        "no_decay = ['bias', 'LayerNorm.weight']\n",
        "optimizer_grouped_parameters = [\n",
        "    {'params': [p for n, p in model.named_parameters() if not any(nd in n for nd in no_decay)], 'weight_decay': 0.01},\n",
        "    {'params': [p for n, p in model.named_parameters() if any(nd in n for nd in no_decay)], 'weight_decay': 0.0}\n",
        "]"
      ],
      "metadata": {
        "id": "3vsRYJwbPt69"
      },
      "execution_count": null,
      "outputs": []
    },
    {
      "cell_type": "code",
      "source": [
        "optimizer = AdamW(optimizer_grouped_parameters, lr=learning_rate)\n",
        "loss_fn = nn.CrossEntropyLoss()\n",
        "\n",
        "t_total = len(train_dataloader) * num_epochs\n",
        "warmup_step = int(t_total * warmup_ratio)\n",
        "\n",
        "scheduler = get_cosine_schedule_with_warmup(optimizer, num_warmup_steps=warmup_step, num_training_steps=t_total)"
      ],
      "metadata": {
        "id": "JNsH4l9JPvU2"
      },
      "execution_count": null,
      "outputs": []
    },
    {
      "cell_type": "code",
      "source": [
        "def calc_accuracy(X,Y):\n",
        "    max_vals, max_indices = torch.max(X, 1)\n",
        "    train_acc = (max_indices == Y).sum().data.cpu().numpy()/max_indices.size()[0]\n",
        "    return train_acc\n",
        "train_dataloader"
      ],
      "metadata": {
        "id": "zoDMpxTLPxKF"
      },
      "execution_count": null,
      "outputs": []
    },
    {
      "cell_type": "code",
      "source": [
        "# 머신러닝 학습시작\n",
        "for e in range(num_epochs):\n",
        "    train_acc = 0.0\n",
        "    test_acc = 0.0\n",
        "    model.train()\n",
        "    for batch_id, (token_ids, valid_length, segment_ids, label) in enumerate(tqdm_notebook(train_dataloader)):\n",
        "        optimizer.zero_grad()\n",
        "        token_ids = token_ids.long().to(device)\n",
        "        segment_ids = segment_ids.long().to(device)\n",
        "        valid_length= valid_length\n",
        "        label = label.long().to(device)\n",
        "        out = model(token_ids, valid_length, segment_ids)\n",
        "        loss = loss_fn(out, label)\n",
        "        loss.backward()\n",
        "        torch.nn.utils.clip_grad_norm_(model.parameters(), max_grad_norm)\n",
        "        optimizer.step()\n",
        "        scheduler.step()  # Update learning rate schedule\n",
        "        train_acc += calc_accuracy(out, label)\n",
        "        if batch_id % log_interval == 0:\n",
        "            print(\"epoch {} batch id {} loss {} train acc {}\".format(e+1, batch_id+1, loss.data.cpu().numpy(), train_acc / (batch_id+1)))\n",
        "    print(\"epoch {} train acc {}\".format(e+1, train_acc / (batch_id+1)))\n",
        "    model.eval()\n",
        "    for batch_id, (token_ids, valid_length, segment_ids, label) in enumerate(tqdm_notebook(test_dataloader)):\n",
        "        token_ids = token_ids.long().to(device)\n",
        "        segment_ids = segment_ids.long().to(device)\n",
        "        valid_length= valid_length\n",
        "        label = label.long().to(device)\n",
        "        out = model(token_ids, valid_length, segment_ids)\n",
        "        test_acc += calc_accuracy(out, label)\n",
        "    print(\"epoch {} test acc {}\".format(e+1, test_acc / (batch_id+1)))"
      ],
      "metadata": {
        "id": "8ELsyNZ0Pym3"
      },
      "execution_count": null,
      "outputs": []
    },
    {
      "cell_type": "code",
      "source": [
        "# 최초 1회 설정\n",
        "import firebase_admin\n",
        "from firebase_admin import credentials\n",
        "# The Cloud Functions for Firebase SDK to create Cloud Functions and set up triggers.\n",
        "from firebase_functions import db_fn, https_fn\n",
        "\n",
        "# The Firebase Admin SDK to access the Firebase Realtime Database.\n",
        "from firebase_admin import initialize_app, db\n",
        "\n",
        "cred = credentials.Certificate('/content/drive/MyDrive/coway-chair-test-server-firebase-adminsdk-hhu3y-2c4d064bcf.json')\n",
        "\n",
        "try:\n",
        "    app = firebase_admin.initialize_app(cred, { 'databaseURL' : \"https://coway-chair-test-server-default-rtdb.firebaseio.com/\" })\n",
        "except ValueError:\n",
        "    app = firebase_admin.initialize_app    # 그대로 admin 사용"
      ],
      "metadata": {
        "id": "xgmnhQaxHaIC"
      },
      "execution_count": null,
      "outputs": []
    },
    {
      "cell_type": "code",
      "source": [
        "# firebase에 데이터 쓰기\n",
        "# dir = db.reference()\n",
        "# dir.update({\"Result\" : \"testtest\"})"
      ],
      "metadata": {
        "id": "uNXPgbe8J_fu"
      },
      "execution_count": null,
      "outputs": []
    },
    {
      "cell_type": "code",
      "source": [
        "# firebase에 데이터 읽어오기\n",
        "dir = db.reference('Result')\n",
        "print(dir.get())"
      ],
      "metadata": {
        "id": "RzVEI75HKHoX"
      },
      "execution_count": null,
      "outputs": []
    },
    {
      "cell_type": "code",
      "source": [
        "from typing import Any\n",
        "@db_fn.on_value_created(reference=\"/Result\")\n",
        "def makeuppercase(event: db_fn.Event[Any]) -> None:\n",
        "    \"\"\"Listens for new messages added to /messages/{pushId}/original and\n",
        "    creates an uppercase version of the message to /messages/{pushId}/uppercase\n",
        "    \"\"\"\n",
        "\n",
        "    # Grab the value that was written to the Realtime Database.\n",
        "    original = event.data\n",
        "    if not isinstance(original, str):\n",
        "        print(f\"Not a string: {event.reference}\")\n",
        "        return\n",
        "\n",
        "    # Use the Admin SDK to set an \"uppercase\" sibling.\n",
        "    print(f\"Uppercasing {event.params['pushId']}: {original}\")\n",
        "    upper = original.upper()\n",
        "    parent = db.reference(event.reference).parent\n",
        "    if parent is None:\n",
        "        print(\"Message can't be root node.\")\n",
        "        return\n",
        "    parent.child(\"uppercase\").set(upper)"
      ],
      "metadata": {
        "id": "1kzEOVq94LbS"
      },
      "execution_count": null,
      "outputs": []
    },
    {
      "cell_type": "code",
      "source": [
        "from firebase_functions.core import CloudEvent\n",
        "@db_fn.on_value_written(reference=\"hello/world\")\n",
        "def onwriteexample(event: db_fn.Event[db_fn.Change]) -> None:\n",
        "    print(\"Hello from db write event:\", event)\n",
        "\n",
        "\n",
        "@db_fn.on_value_created(reference=\"hello/world\")\n",
        "def oncreatedexample(event: db_fn.Event) -> None:\n",
        "    print(\"Hello from db create event:\", event)\n",
        "\n",
        "\n",
        "@db_fn.on_value_deleted(reference=\"hello/world\")\n",
        "def ondeletedexample(event: db_fn.Event) -> None:\n",
        "    print(\"Hello from db delete event:\", event)\n",
        "\n",
        "\n",
        "@db_fn.on_value_updated(reference=\"hello/world\")\n",
        "def onupdatedexample(event: db_fn.Event[db_fn.Change]) -> None:\n",
        "    print(\"Hello from db updated event:\", event)"
      ],
      "metadata": {
        "id": "olc5XJ0DjIRY"
      },
      "execution_count": null,
      "outputs": []
    },
    {
      "cell_type": "code",
      "source": [
        "#토큰화\n",
        "# tokenizer = tokenizer.tokenize\n",
        "# tok = nlp.data.BERTSPTokenizer(tokenizer, vocab, lower=False)\n",
        "\n",
        "def predict(predict_sentence):\n",
        "\n",
        "    if predict_sentence == '0':\n",
        "        return\n",
        "\n",
        "    # firebase에 데이터 쓰기\n",
        "    dir = db.reference()\n",
        "    data = [predict_sentence, '0']\n",
        "    dataset_another = [data]\n",
        "    print(dataset_another)\n",
        "    another_test = BERTDataset(dataset_another, 0, 1, tok, vocab, max_len, True, False)\n",
        "    test_dataloader = torch.utils.data.DataLoader(another_test, batch_size=batch_size, num_workers=5)\n",
        "\n",
        "    model.eval()\n",
        "\n",
        "    for batch_id, (token_ids, valid_length, segment_ids, label) in enumerate(test_dataloader):\n",
        "        token_ids = token_ids.long().to(device)\n",
        "        segment_ids = segment_ids.long().to(device)\n",
        "\n",
        "        valid_length= valid_length\n",
        "        label = label.long().to(device)\n",
        "\n",
        "        out = model(token_ids, valid_length, segment_ids)\n",
        "\n",
        "        test_eval=[]\n",
        "        for i in out:\n",
        "            logits=i\n",
        "            logits = logits.detach().cpu().numpy()\n",
        "\n",
        "            if np.argmax(logits) == 1:\n",
        "                test_eval.append(\"사용자 코웨이 AI 호출\")\n",
        "\n",
        "                dir.child(\"NLU\").update({\"Command\" : \"null\"})\n",
        "                dir.child(\"NLU\").update({\"Result\" : \"COWAY\"})\n",
        "\n",
        "            elif np.argmax(logits) == 2:\n",
        "                test_eval.append(\"안마의자 전원 ON 명령\")\n",
        "\n",
        "                dir.child(\"NLU\").update({\"Command\" : \"null\"})\n",
        "                dir.child(\"NLU\").update({\"Result\" : \"POWER_ON\"})\n",
        "\n",
        "            elif np.argmax(logits) == 3:\n",
        "                test_eval.append(\"안마의자 전원 OFF 명령\")\n",
        "\n",
        "                dir.child(\"NLU\").update({\"Command\" : \"null\"})\n",
        "                dir.child(\"NLU\").update({\"Result\" : \"POWER_OFF\"})\n",
        "\n",
        "            elif np.argmax(logits) == 4:\n",
        "                test_eval.append(\"Good Moring모드 동작 명령\")\n",
        "\n",
        "                dir.child(\"NLU\").update({\"Command\" : \"null\"})\n",
        "                dir.child(\"NLU\").update({\"Result\" : \"GOOD_MORING\"})\n",
        "\n",
        "            elif np.argmax(logits) == 5:\n",
        "                test_eval.append(\"Good Day모드 동작 명령\")\n",
        "\n",
        "                dir.child(\"NLU\").update({\"Command\" : \"null\"})\n",
        "                dir.child(\"NLU\").update({\"Result\" : \"GOOD_DAY\"})\n",
        "\n",
        "            elif np.argmax(logits) == 6:\n",
        "                test_eval.append(\"Good night모드 동작 명령\")\n",
        "\n",
        "                dir.child(\"NLU\").update({\"Command\" : \"null\"})\n",
        "                dir.child(\"NLU\").update({\"Result\" : \"GOOD_NIGHT\"})\n",
        "\n",
        "            elif np.argmax(logits) == 7:\n",
        "                test_eval.append(\"무중력모드 동작 명령\")\n",
        "\n",
        "                dir.child(\"NLU\").update({\"Command\" : \"null\"})\n",
        "                dir.child(\"NLU\").update({\"Result\" : \"ZEROG\"})\n",
        "\n",
        "            elif np.argmax(logits) == 8:\n",
        "                test_eval.append(\"스윙모드 동작 명령\")\n",
        "\n",
        "                dir.child(\"NLU\").update({\"Command\" : \"null\"})\n",
        "                dir.child(\"NLU\").update({\"Result\" : \"SWING\"})\n",
        "\n",
        "            elif np.argmax(logits) == 9:\n",
        "                test_eval.append(\"온열 기능 ON 명령\")\n",
        "\n",
        "                dir.child(\"NLU\").update({\"Command\" : \"null\"})\n",
        "                dir.child(\"NLU\").update({\"Result\" : \"HEAT_ON\"})\n",
        "\n",
        "            elif np.argmax(logits) == 10:\n",
        "                test_eval.append(\"온열 기능 OFF 명령\")\n",
        "\n",
        "                dir.child(\"NLU\").update({\"Command\" : \"null\"})\n",
        "                dir.child(\"NLU\").update({\"Result\" : \"HEAT_OFF\"})\n",
        "\n",
        "            else:\n",
        "                test_eval.append(\"일상 대화\")\n",
        "        print(test_eval[0])"
      ],
      "metadata": {
        "id": "L_ca1J5nmf_C"
      },
      "execution_count": null,
      "outputs": []
    },
    {
      "cell_type": "code",
      "source": [
        "#질문 무한반복하기! 0 입력시 종료\n",
        "end = 1\n",
        "data = \"\"\n",
        "data_old = \"\"\n",
        "flag = 1\n",
        "while end == 1 :\n",
        "    time.sleep(1)\n",
        "    # firebase에 데이터 읽어오기\n",
        "    dir = db.reference().child(\"NLU\").child(\"Command\")\n",
        "    data = dir.get()\n",
        "\n",
        "    if(data_old != data):\n",
        "        data_old = data\n",
        "\n",
        "        if data == '0' and flag == 0:\n",
        "            print(\"종료합니다.\")\n",
        "            end = 0\n",
        "        elif data == \"null\":\n",
        "            pass\n",
        "        else:\n",
        "            try:\n",
        "                flag = 0\n",
        "                predict(data)\n",
        "            except TypeError:\n",
        "                pass\n",
        "    # sentence = input(\"하고싶은 말을 입력해주세요 : \")\n",
        "    # if sentence == '0' :\n",
        "    #     print(\"종료합니다.\")\n",
        "    #     end = 0\n",
        "    # predict(sentence)\n",
        "    # print(\"\\n\")"
      ],
      "metadata": {
        "id": "Sqt1SqV6ypef"
      },
      "execution_count": null,
      "outputs": []
    },
    {
      "cell_type": "code",
      "source": [],
      "metadata": {
        "id": "aJp4s_ffkJ7B"
      },
      "execution_count": null,
      "outputs": []
    }
  ]
}